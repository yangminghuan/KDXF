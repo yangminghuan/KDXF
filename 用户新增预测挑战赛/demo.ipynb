{
 "cells": [
  {
   "cell_type": "code",
   "execution_count": 1,
   "id": "93712664-8a71-4034-902c-4dd3f31a55fa",
   "metadata": {},
   "outputs": [],
   "source": [
    "import pandas as pd\n",
    "import numpy as np\n",
    "from sklearn.preprocessing import LabelEncoder\n",
    "from sklearn.model_selection import StratifiedKFold\n",
    "from sklearn.metrics import roc_auc_score, f1_score\n",
    "import xgboost as xgb\n",
    "import lightgbm as lgb\n",
    "import catboost as cab\n",
    "from tqdm import tqdm\n",
    "from sklearn import base\n",
    "\n",
    "import warnings\n",
    "warnings.filterwarnings('ignore')"
   ]
  },
  {
   "cell_type": "code",
   "execution_count": 63,
   "id": "95f8b60e-6c09-43d6-b5fd-a182736c9de5",
   "metadata": {},
   "outputs": [],
   "source": [
    "train_df = pd.read_csv('./data/train.csv')\n",
    "test_df = pd.read_csv('./data/test.csv')"
   ]
  },
  {
   "cell_type": "code",
   "execution_count": 64,
   "id": "ff6bb336-252f-4cae-9b01-85bde7f90002",
   "metadata": {},
   "outputs": [
    {
     "data": {
      "text/plain": [
       "((620356, 13), (206785, 12))"
      ]
     },
     "execution_count": 64,
     "metadata": {},
     "output_type": "execute_result"
    }
   ],
   "source": [
    "train_df.shape, test_df.shape"
   ]
  },
  {
   "cell_type": "code",
   "execution_count": 65,
   "id": "3c8eddd5-ada9-4387-bb59-68f1b06a28d7",
   "metadata": {},
   "outputs": [
    {
     "data": {
      "text/html": [
       "<div>\n",
       "<style scoped>\n",
       "    .dataframe tbody tr th:only-of-type {\n",
       "        vertical-align: middle;\n",
       "    }\n",
       "\n",
       "    .dataframe tbody tr th {\n",
       "        vertical-align: top;\n",
       "    }\n",
       "\n",
       "    .dataframe thead th {\n",
       "        text-align: right;\n",
       "    }\n",
       "</style>\n",
       "<table border=\"1\" class=\"dataframe\">\n",
       "  <thead>\n",
       "    <tr style=\"text-align: right;\">\n",
       "      <th></th>\n",
       "      <th>uuid</th>\n",
       "      <th>eid</th>\n",
       "      <th>udmap</th>\n",
       "      <th>common_ts</th>\n",
       "      <th>x1</th>\n",
       "      <th>x2</th>\n",
       "      <th>x3</th>\n",
       "      <th>x4</th>\n",
       "      <th>x5</th>\n",
       "      <th>x6</th>\n",
       "      <th>x7</th>\n",
       "      <th>x8</th>\n",
       "      <th>target</th>\n",
       "    </tr>\n",
       "  </thead>\n",
       "  <tbody>\n",
       "    <tr>\n",
       "      <th>0</th>\n",
       "      <td>0</td>\n",
       "      <td>26</td>\n",
       "      <td>{\"key3\":\"67804\",\"key2\":\"650\"}</td>\n",
       "      <td>1689673468244</td>\n",
       "      <td>4</td>\n",
       "      <td>0</td>\n",
       "      <td>41</td>\n",
       "      <td>107</td>\n",
       "      <td>206</td>\n",
       "      <td>1</td>\n",
       "      <td>0</td>\n",
       "      <td>1</td>\n",
       "      <td>0</td>\n",
       "    </tr>\n",
       "    <tr>\n",
       "      <th>1</th>\n",
       "      <td>1</td>\n",
       "      <td>26</td>\n",
       "      <td>{\"key3\":\"67804\",\"key2\":\"484\"}</td>\n",
       "      <td>1689082941469</td>\n",
       "      <td>4</td>\n",
       "      <td>0</td>\n",
       "      <td>41</td>\n",
       "      <td>24</td>\n",
       "      <td>283</td>\n",
       "      <td>4</td>\n",
       "      <td>8</td>\n",
       "      <td>1</td>\n",
       "      <td>0</td>\n",
       "    </tr>\n",
       "    <tr>\n",
       "      <th>2</th>\n",
       "      <td>2</td>\n",
       "      <td>8</td>\n",
       "      <td>unknown</td>\n",
       "      <td>1689407393040</td>\n",
       "      <td>4</td>\n",
       "      <td>0</td>\n",
       "      <td>41</td>\n",
       "      <td>71</td>\n",
       "      <td>288</td>\n",
       "      <td>4</td>\n",
       "      <td>7</td>\n",
       "      <td>1</td>\n",
       "      <td>0</td>\n",
       "    </tr>\n",
       "    <tr>\n",
       "      <th>3</th>\n",
       "      <td>3</td>\n",
       "      <td>11</td>\n",
       "      <td>unknown</td>\n",
       "      <td>1689467815688</td>\n",
       "      <td>1</td>\n",
       "      <td>3</td>\n",
       "      <td>41</td>\n",
       "      <td>17</td>\n",
       "      <td>366</td>\n",
       "      <td>1</td>\n",
       "      <td>6</td>\n",
       "      <td>1</td>\n",
       "      <td>0</td>\n",
       "    </tr>\n",
       "    <tr>\n",
       "      <th>4</th>\n",
       "      <td>4</td>\n",
       "      <td>26</td>\n",
       "      <td>{\"key3\":\"67804\",\"key2\":\"650\"}</td>\n",
       "      <td>1689491751442</td>\n",
       "      <td>0</td>\n",
       "      <td>3</td>\n",
       "      <td>41</td>\n",
       "      <td>92</td>\n",
       "      <td>383</td>\n",
       "      <td>4</td>\n",
       "      <td>8</td>\n",
       "      <td>1</td>\n",
       "      <td>0</td>\n",
       "    </tr>\n",
       "  </tbody>\n",
       "</table>\n",
       "</div>"
      ],
      "text/plain": [
       "   uuid  eid                          udmap      common_ts  x1  x2  x3   x4  \\\n",
       "0     0   26  {\"key3\":\"67804\",\"key2\":\"650\"}  1689673468244   4   0  41  107   \n",
       "1     1   26  {\"key3\":\"67804\",\"key2\":\"484\"}  1689082941469   4   0  41   24   \n",
       "2     2    8                        unknown  1689407393040   4   0  41   71   \n",
       "3     3   11                        unknown  1689467815688   1   3  41   17   \n",
       "4     4   26  {\"key3\":\"67804\",\"key2\":\"650\"}  1689491751442   0   3  41   92   \n",
       "\n",
       "    x5  x6  x7  x8  target  \n",
       "0  206   1   0   1       0  \n",
       "1  283   4   8   1       0  \n",
       "2  288   4   7   1       0  \n",
       "3  366   1   6   1       0  \n",
       "4  383   4   8   1       0  "
      ]
     },
     "execution_count": 65,
     "metadata": {},
     "output_type": "execute_result"
    }
   ],
   "source": [
    "train_df.head()"
   ]
  },
  {
   "cell_type": "code",
   "execution_count": 66,
   "id": "c770097d-0acd-462d-b154-1feaa07fe5bc",
   "metadata": {},
   "outputs": [
    {
     "data": {
      "text/plain": [
       "(617688, 13)"
      ]
     },
     "execution_count": 66,
     "metadata": {},
     "output_type": "execute_result"
    }
   ],
   "source": [
    "# 去重：删除掉除了uuid标识外其他特征字段都相同的重复样本\n",
    "train_df = train_df.drop_duplicates(subset=[col for col in train_df.columns if col != 'uuid'])\n",
    "train_df.shape"
   ]
  },
  {
   "cell_type": "code",
   "execution_count": 67,
   "id": "e4b7c26f-da1b-4038-ba36-9d913b34b475",
   "metadata": {},
   "outputs": [
    {
     "data": {
      "text/html": [
       "<div>\n",
       "<style scoped>\n",
       "    .dataframe tbody tr th:only-of-type {\n",
       "        vertical-align: middle;\n",
       "    }\n",
       "\n",
       "    .dataframe tbody tr th {\n",
       "        vertical-align: top;\n",
       "    }\n",
       "\n",
       "    .dataframe thead th {\n",
       "        text-align: right;\n",
       "    }\n",
       "</style>\n",
       "<table border=\"1\" class=\"dataframe\">\n",
       "  <thead>\n",
       "    <tr style=\"text-align: right;\">\n",
       "      <th></th>\n",
       "      <th>uuid</th>\n",
       "      <th>eid</th>\n",
       "      <th>udmap</th>\n",
       "      <th>common_ts</th>\n",
       "      <th>x1</th>\n",
       "      <th>x2</th>\n",
       "      <th>x3</th>\n",
       "      <th>x4</th>\n",
       "      <th>x5</th>\n",
       "      <th>x6</th>\n",
       "      <th>x7</th>\n",
       "      <th>x8</th>\n",
       "      <th>target</th>\n",
       "    </tr>\n",
       "  </thead>\n",
       "  <tbody>\n",
       "    <tr>\n",
       "      <th>0</th>\n",
       "      <td>0</td>\n",
       "      <td>26</td>\n",
       "      <td>{\"key3\":\"67804\",\"key2\":\"650\"}</td>\n",
       "      <td>1689673468244</td>\n",
       "      <td>4</td>\n",
       "      <td>0</td>\n",
       "      <td>41</td>\n",
       "      <td>107</td>\n",
       "      <td>206</td>\n",
       "      <td>1</td>\n",
       "      <td>0</td>\n",
       "      <td>1</td>\n",
       "      <td>0</td>\n",
       "    </tr>\n",
       "    <tr>\n",
       "      <th>1</th>\n",
       "      <td>1</td>\n",
       "      <td>26</td>\n",
       "      <td>{\"key3\":\"67804\",\"key2\":\"484\"}</td>\n",
       "      <td>1689082941469</td>\n",
       "      <td>4</td>\n",
       "      <td>0</td>\n",
       "      <td>41</td>\n",
       "      <td>24</td>\n",
       "      <td>283</td>\n",
       "      <td>4</td>\n",
       "      <td>8</td>\n",
       "      <td>1</td>\n",
       "      <td>0</td>\n",
       "    </tr>\n",
       "    <tr>\n",
       "      <th>2</th>\n",
       "      <td>2</td>\n",
       "      <td>8</td>\n",
       "      <td>unknown</td>\n",
       "      <td>1689407393040</td>\n",
       "      <td>4</td>\n",
       "      <td>0</td>\n",
       "      <td>41</td>\n",
       "      <td>71</td>\n",
       "      <td>288</td>\n",
       "      <td>4</td>\n",
       "      <td>7</td>\n",
       "      <td>1</td>\n",
       "      <td>0</td>\n",
       "    </tr>\n",
       "    <tr>\n",
       "      <th>3</th>\n",
       "      <td>3</td>\n",
       "      <td>11</td>\n",
       "      <td>unknown</td>\n",
       "      <td>1689467815688</td>\n",
       "      <td>1</td>\n",
       "      <td>3</td>\n",
       "      <td>41</td>\n",
       "      <td>17</td>\n",
       "      <td>366</td>\n",
       "      <td>1</td>\n",
       "      <td>6</td>\n",
       "      <td>1</td>\n",
       "      <td>0</td>\n",
       "    </tr>\n",
       "    <tr>\n",
       "      <th>4</th>\n",
       "      <td>4</td>\n",
       "      <td>26</td>\n",
       "      <td>{\"key3\":\"67804\",\"key2\":\"650\"}</td>\n",
       "      <td>1689491751442</td>\n",
       "      <td>0</td>\n",
       "      <td>3</td>\n",
       "      <td>41</td>\n",
       "      <td>92</td>\n",
       "      <td>383</td>\n",
       "      <td>4</td>\n",
       "      <td>8</td>\n",
       "      <td>1</td>\n",
       "      <td>0</td>\n",
       "    </tr>\n",
       "  </tbody>\n",
       "</table>\n",
       "</div>"
      ],
      "text/plain": [
       "   uuid  eid                          udmap      common_ts  x1  x2  x3   x4  \\\n",
       "0     0   26  {\"key3\":\"67804\",\"key2\":\"650\"}  1689673468244   4   0  41  107   \n",
       "1     1   26  {\"key3\":\"67804\",\"key2\":\"484\"}  1689082941469   4   0  41   24   \n",
       "2     2    8                        unknown  1689407393040   4   0  41   71   \n",
       "3     3   11                        unknown  1689467815688   1   3  41   17   \n",
       "4     4   26  {\"key3\":\"67804\",\"key2\":\"650\"}  1689491751442   0   3  41   92   \n",
       "\n",
       "    x5  x6  x7  x8  target  \n",
       "0  206   1   0   1       0  \n",
       "1  283   4   8   1       0  \n",
       "2  288   4   7   1       0  \n",
       "3  366   1   6   1       0  \n",
       "4  383   4   8   1       0  "
      ]
     },
     "execution_count": 67,
     "metadata": {},
     "output_type": "execute_result"
    }
   ],
   "source": [
    "train_df.head()"
   ]
  },
  {
   "cell_type": "code",
   "execution_count": 68,
   "id": "f00479cf-2d9a-4293-a697-1b6c7edda389",
   "metadata": {},
   "outputs": [],
   "source": [
    "df = pd.concat([train_df, test_df]).reset_index(drop=True)"
   ]
  },
  {
   "cell_type": "code",
   "execution_count": 69,
   "id": "05575e44-5541-4272-9c57-7f74509200f8",
   "metadata": {},
   "outputs": [
    {
     "name": "stderr",
     "output_type": "stream",
     "text": [
      "100%|███████████████████████████████████████████████████████████████████████| 824473/824473 [00:09<00:00, 91466.79it/s]\n"
     ]
    }
   ],
   "source": [
    "keys = ['key' + str(i) for i in range(1, 10)]\n",
    "keys_df = []\n",
    "for v in tqdm(df['udmap'].values):\n",
    "    if v == 'unknown':\n",
    "        keys_df.append([-1]*9)\n",
    "    else:\n",
    "        v = eval(v)\n",
    "        this_key = []\n",
    "        for key in keys:\n",
    "            if key in v.keys():\n",
    "                this_key.append(int(v[key]))\n",
    "            else:\n",
    "                this_key.append(-1)\n",
    "        keys_df.append(this_key)\n",
    "keys_df = pd.DataFrame(keys_df, columns=keys)"
   ]
  },
  {
   "cell_type": "code",
   "execution_count": 70,
   "id": "5e526314-14c6-4ec4-bf08-84cfa8433d75",
   "metadata": {},
   "outputs": [],
   "source": [
    "# keys_df"
   ]
  },
  {
   "cell_type": "code",
   "execution_count": 71,
   "id": "2cffecea-49e2-49c2-9e8f-a7906a3eedd3",
   "metadata": {},
   "outputs": [],
   "source": [
    "df = pd.concat([df, keys_df], axis=1)"
   ]
  },
  {
   "cell_type": "markdown",
   "id": "43ca3654-438d-4ce5-ad84-bf50f24d3080",
   "metadata": {},
   "source": [
    "### 提取时间，交叉特征"
   ]
  },
  {
   "cell_type": "code",
   "execution_count": 72,
   "id": "f65771f8-e4ca-44a6-8d04-9b2499f1e2cd",
   "metadata": {},
   "outputs": [],
   "source": [
    "df['tm'] = pd.to_datetime(df['common_ts'],unit='ms')\n",
    "df['day'] = df['tm'].dt.day\n",
    "df['hour'] = df['tm'].dt.hour\n",
    "df['dayofweek'] = df['tm'].dt.dayofweek\n",
    "\n",
    "df['x5_x7'] = df['x5'].astype(str) + '_' + df['x7'].astype(str)\n",
    "df['x5_x4'] = df['x5'].astype(str) + '_' + df['x4'].astype(str)\n",
    "df['x7_x4'] = df['x7'].astype(str) + '_' + df['x4'].astype(str)\n",
    "\n",
    "# df['x8_x6'] = df['x8'].astype(str) + '_' + df['x6'].astype(str)\n",
    "# df['x8_x7'] = df['x8'].astype(str) + '_' + df['x7'].astype(str)\n",
    "# df['x6_x7'] = df['x6'].astype(str) + '_' + df['x7'].astype(str)\n",
    "# df['x8_x6_x7'] = df['x8'].astype(str) + '_' + df['x6'].astype(str) + '_' + df['x7'].astype(str)\n",
    "# df['hour_x8_x6_x7'] = df['hour'].astype(str) + '_' + df['x8'].astype(str) + '_' + df['x6'].astype(str) + '_' + df['x7'].astype(str)\n",
    "\n",
    "x_std = np.std(df[['x1', 'x2', 'x3', 'x4', 'x5', 'x6', 'x7', 'x8']], axis=1)\n",
    "x_mean = np.mean(df[['x1', 'x2', 'x3', 'x4', 'x5', 'x6', 'x7', 'x8']], axis=1)\n",
    "df['x_std'] = x_std\n",
    "df['x_cv'] = x_std / x_mean\n",
    "\n",
    "df['hour_x7'] = df['hour'].astype(str) + '_' + df['x7'].astype(str)\n",
    "df['hour_x7_x5'] = df['hour_x7'] + '_' + df['x5'].astype(str)\n",
    "df['x_all'] = df['x1'].astype(str) + '_'+ df['x2'].astype(str) + '_' + df['x3'].astype(str) + '_' + df['x4'].astype(str)+ '_' + df['x5'].astype(str)+ '_' + df['x6'].astype(str)+ '_' + df['x7'].astype(str)+ '_' + df['x8'].astype(str)\n",
    "\n",
    "df['hour_x_all'] = df['hour'].astype(str) + '_' + df['x_all']\n",
    "df['day_hour_x_all'] = df['day'].astype(str) + '_' + df['hour'].astype(str) + '_' + df['x_all']\n",
    "\n",
    "df['day_hour'] = df['day'].astype(str) + '_' + df['hour'].astype(str)\n",
    "df['day_hour_x7'] = df['day'].astype(str) + '_' + df['hour'].astype(str) + '_' + df['x7'].astype(str)\n",
    "df['day_hour_x7_x5'] = df['day'].astype(str) + '_' + df['hour_x7'] + '_' + df['x5'].astype(str)\n",
    "\n",
    "# df['eid_hour_x_all'] = df['eid'].astype(str) + '_' + df['hour'].astype(str) + '_' + df['x_all']\n",
    "# df['day_eid_hour_x_all'] = df['day'].astype(str) + '_' + df['eid'].astype(str) + '_' + df['hour'].astype(str) + '_' + df['x_all']\n",
    "\n",
    "df['hour_x5'] = df['hour'].astype(str) + '_' + df['x5'].astype(str)\n",
    "df['day_hour_x5'] = df['day'].astype(str) + '_' + df['hour'].astype(str) + '_' + df['x5'].astype(str)\n",
    "\n",
    "# df['hour_key3'] = df['hour'].astype(str) + '_' + df['key3'].astype(str)\n",
    "# df['day_hour_key3'] = df['day'].astype(str) + '_' + df['hour'].astype(str) + '_' + df['key3'].astype(str)\n",
    "\n",
    "# 'x8_x6', 'x8_x7', 'x6_x7', 'x8_x6_x7'\n",
    "for f in ['x5_x7', 'x5_x4', 'x7_x4', 'hour_x7', 'hour_x7_x5', 'x_all', 'hour_x_all', 'day_hour_x_all', 'hour_x5', 'day_hour', 'day_hour_x7', 'day_hour_x7_x5', 'day_hour_x5']:\n",
    "    df[f] = df[f].factorize()[0]"
   ]
  },
  {
   "cell_type": "markdown",
   "id": "d1898f11-5531-41b9-b0ed-ff1cafd6e216",
   "metadata": {},
   "source": [
    "### rank排序，统计特征"
   ]
  },
  {
   "cell_type": "code",
   "execution_count": 73,
   "id": "6ff3c23a-49a4-4340-a309-62787223d1d0",
   "metadata": {},
   "outputs": [],
   "source": [
    "df = df.reset_index()\n",
    "df = df.sort_values(by=['common_ts'])\n",
    "for f in ['eid', 'x4', 'x5', 'x7', 'hour', 'hour_x7_x5', 'hour_x7', 'x5_x7', 'x_all', 'hour_x_all', 'day_hour_x_all', 'hour_x5', 'day_hour', 'day_hour_x7', 'day_hour_x7_x5', 'day_hour_x5']:\n",
    "    df[f+'_sort_ts_rank'] = df.groupby(f)['common_ts'].rank()\n",
    "df = df.sort_values(by=['index'])"
   ]
  },
  {
   "cell_type": "code",
   "execution_count": 74,
   "id": "48846f34-77bb-4452-a8e7-47a1e4d65d33",
   "metadata": {},
   "outputs": [],
   "source": [
    "for f in ['eid', 'x4', 'x5', 'x7', 'hour', 'hour_x7_x5', 'hour_x7', 'x5_x7', 'x_all', 'hour_x_all', 'day_hour_x_all', 'hour_x5', 'day_hour', 'day_hour_x7', 'day_hour_x7_x5', 'day_hour_x5']:\n",
    "    df[f+'_ts_std'] = df.groupby([f])['common_ts'].transform('std')\n",
    "    df[f+'_ts_skew'] = df.groupby([f])['common_ts'].transform('skew')\n",
    "    kurt_map = df.groupby([f])['common_ts'].apply(lambda x: x.kurt())\n",
    "    df[f+'_ts_kurt'] = df[f].map(kurt_map)\n",
    "    \n",
    "    max_value = df.groupby([f])['common_ts'].transform('max')\n",
    "    min_value = df.groupby([f])['common_ts'].transform('min')\n",
    "    count_value = df.groupby([f])['common_ts'].transform('count')\n",
    "    df[f+'_ts_freq'] = (max_value - min_value) / count_value\n",
    "    \n",
    "    count_value = df.groupby([f])['common_ts'].transform('nunique')\n",
    "    df[f+'_tss_freq'] = (max_value - min_value) / count_value\n",
    "    \n",
    "    count_value = df.groupby([f])['eid'].transform('nunique')\n",
    "    df[f+'_eid_freq'] = (max_value - min_value) / count_value"
   ]
  },
  {
   "cell_type": "code",
   "execution_count": null,
   "id": "f341f7f8-23e3-4788-9e9b-004ec72977c2",
   "metadata": {},
   "outputs": [],
   "source": []
  },
  {
   "cell_type": "code",
   "execution_count": 75,
   "id": "e997e695-8cb6-48fc-9be9-20187699db32",
   "metadata": {},
   "outputs": [],
   "source": [
    "train_df = df[~df['target'].isnull()]\n",
    "test_df = df[df['target'].isnull()]"
   ]
  },
  {
   "cell_type": "code",
   "execution_count": 76,
   "id": "2a0701b9-0b7e-4683-a849-02c1b920a198",
   "metadata": {},
   "outputs": [],
   "source": [
    "\"\"\"目标编码\"\"\"\n",
    "class KFoldTargetEncoderTrain(base.BaseEstimator, base.TransformerMixin):\n",
    "\n",
    "    def __init__(self, colnames,targetName,n_fold=5,verbosity=True,discardOriginal_col=False):\n",
    "\n",
    "        self.colnames   = colnames\n",
    "        self.targetName = targetName\n",
    "        self.n_fold     = n_fold\n",
    "        self.verbosity  = verbosity\n",
    "        self.discardOriginal_col = discardOriginal_col\n",
    "\n",
    "    def fit(self, X, y=None):\n",
    "        return self\n",
    "\n",
    "\n",
    "    def transform(self,X):\n",
    "\n",
    "        assert(type(self.targetName) == str)\n",
    "        assert(type(self.colnames) == str)\n",
    "        assert(self.colnames in X.columns)\n",
    "        assert(self.targetName in X.columns)\n",
    "\n",
    "        mean_of_target = X[self.targetName].mean()\n",
    "        # kf = KFold(n_splits = self.n_fold, shuffle = True, random_state=2023)\n",
    "        skf = StratifiedKFold(n_splits = self.n_fold, shuffle = True, random_state=2023)\n",
    "\n",
    "\n",
    "\n",
    "        col_mean_name = self.colnames + '_' + 'Kfold_Target_Enc'\n",
    "        X[col_mean_name] = np.nan\n",
    "\n",
    "        # for tr_ind, val_ind in kf.split(X):\n",
    "        #     X_tr, X_val = X.iloc[tr_ind], X.iloc[val_ind] \n",
    "        #     X.loc[X.index[val_ind], col_mean_name] = X_val[self.colnames].map(X_tr.groupby(self.colnames)[self.targetName].mean())\n",
    "        \n",
    "        for tr_ind, val_ind in skf.split(X,X[self.targetName]):\n",
    "            X_tr, X_val = X.iloc[tr_ind], X.iloc[val_ind] \n",
    "            X.loc[X.index[val_ind], col_mean_name] = X_val[self.colnames].map(X_tr.groupby(self.colnames)[self.targetName].mean())\n",
    "\n",
    "        X[col_mean_name].fillna(mean_of_target, inplace = True)\n",
    "\n",
    "        if self.verbosity:\n",
    "\n",
    "            encoded_feature = X[col_mean_name].values\n",
    "            print('Correlation between the new feature, {} and, {} is {}.'.format(col_mean_name, self.targetName,\n",
    "                                                                                  np.corrcoef(X[self.targetName].values, encoded_feature)[0][1]))\n",
    "        if self.discardOriginal_col:\n",
    "            X = X.drop(self.targetName, axis=1)\n",
    "            \n",
    "\n",
    "        return X\n",
    "    \n",
    "class KFoldTargetEncoderTest(base.BaseEstimator, base.TransformerMixin):\n",
    "    \n",
    "    def __init__(self,train,colNames,encodedName):\n",
    "        \n",
    "        self.train = train\n",
    "        self.colNames = colNames\n",
    "        self.encodedName = encodedName\n",
    "        \n",
    "        \n",
    "    def fit(self, X, y=None):\n",
    "        return self\n",
    "\n",
    "    def transform(self,X):\n",
    "\n",
    "\n",
    "        mean = self.train[[self.colNames,self.encodedName]].groupby(self.colNames).mean().reset_index() \n",
    "        \n",
    "        dd = {}\n",
    "        for index, row in mean.iterrows():\n",
    "            dd[row[self.colNames]] = row[self.encodedName]\n",
    "\n",
    "        \n",
    "        X[self.encodedName] = X[self.colNames]\n",
    "        X = X.replace({self.encodedName: dd})\n",
    "\n",
    "        return X"
   ]
  },
  {
   "cell_type": "code",
   "execution_count": 77,
   "id": "9f748df3-9d5a-4298-9716-630eaca22749",
   "metadata": {},
   "outputs": [],
   "source": [
    "# tar_cols = ['x_all', 'hour_x5', 'hour_x7']\n",
    "# target = 'target'\n",
    "# for col in tar_cols:\n",
    "#     target_encoder = KFoldTargetEncoderTrain(col, target, n_fold=5)\n",
    "#     train_df = target_encoder.fit_transform(train_df)\n",
    "\n",
    "# for col in tar_cols:\n",
    "#     target_encoder_test = KFoldTargetEncoderTest(train_df, col, col+'_Kfold_Target_Enc')\n",
    "#     test_df = target_encoder_test.fit_transform(test_df)"
   ]
  },
  {
   "cell_type": "code",
   "execution_count": 78,
   "id": "77a9d7e9-a8c1-4b5b-a512-72ad4f90f703",
   "metadata": {},
   "outputs": [
    {
     "data": {
      "text/plain": [
       "((617688, 170), (206785, 170))"
      ]
     },
     "execution_count": 78,
     "metadata": {},
     "output_type": "execute_result"
    }
   ],
   "source": [
    "train_df.shape, test_df.shape"
   ]
  },
  {
   "cell_type": "code",
   "execution_count": 79,
   "id": "de6034cb-fdb7-4b3e-8d0f-b6b0374663a2",
   "metadata": {},
   "outputs": [],
   "source": [
    "feats = [f for f in train_df if f not in ['target', 'udmap', 'uuid',  'key4', 'key5', 'key6', 'key7', 'key8', 'key9', 'tm', 'index']]"
   ]
  },
  {
   "cell_type": "code",
   "execution_count": 80,
   "id": "b17b37f1-b267-40bc-a062-4d1609eb21c5",
   "metadata": {},
   "outputs": [],
   "source": [
    "x = train_df[feats]\n",
    "y = train_df['target']\n",
    "test_x = test_df[feats]"
   ]
  },
  {
   "cell_type": "code",
   "execution_count": 81,
   "id": "e5676f91-38f3-4aa0-ab58-187cee26c45b",
   "metadata": {},
   "outputs": [],
   "source": [
    "seed = 2222\n",
    "n_fold = 5\n",
    "skf = StratifiedKFold(n_splits=n_fold, shuffle=True, random_state=seed)\n",
    "oof = np.zeros(len(y))\n",
    "pred_y = np.zeros(len(test_x))\n",
    "feats_weight = pd.DataFrame(x.columns.values, columns=['feat_name'])\n",
    "feats_weight['importance'] = 0\n",
    "\n",
    "lgb_params = {\n",
    "    'boosting_type': 'gbdt',\n",
    "    'objective': 'binary',\n",
    "    'learning_rate': 0.03,\n",
    "    'metric': 'auc',\n",
    "    'max_depth': 8,\n",
    "    'num_leaves': 64,\n",
    "    'feature_fraction':0.8,\n",
    "    'bagging_fraction':0.9,\n",
    "    'bagging_freq': 4,\n",
    "    'verbose': -1,\n",
    "    # 'lambda_l2':10,\n",
    "    'seed': seed,\n",
    "    # 'is_unbalance': True,\n",
    "    # 'scale_pos_weight': 64\n",
    "}\n",
    "\n",
    "xgb_params = {\n",
    "    'booster': 'gbtree',\n",
    "    'objective': 'binary:logistic',\n",
    "    'tree_method': 'gpu_hist',\n",
    "    'learning_rate': 0.03,  # 0.03, 0.1\n",
    "    # 'eval_metric': 'auc',\n",
    "    'max_depth': 8,  # 8, 6\n",
    "    'subsample': 0.9,\n",
    "    'colsample_bytree': 0.85,\n",
    "    'min_child_weight': 10,\n",
    "    # 'verbosity': 0,\n",
    "    # 'reg_lambda': 10,\n",
    "    'seed': seed,\n",
    "    # 'scale_pos_weight': 74\n",
    "}\n",
    "\n",
    "cab_params = {\n",
    "    'learning_rate': 0.01,\n",
    "    'loss_function': \"Logloss\",\n",
    "    'eval_metric': \"AUC\",\n",
    "    'depth': 6,\n",
    "    'min_data_in_leaf': 20,\n",
    "    'random_seed': seed,\n",
    "    'logging_level': 'Silent',\n",
    "    'use_best_model': True,\n",
    "    'one_hot_max_size': 5,   #类别数量多于此数将使用ordered target statistics编码方法,默认值为2。\n",
    "    'boosting_type':\"Ordered\", #Ordered 或者Plain,数据量较少时建议使用Ordered,训练更慢但能够缓解梯度估计偏差。\n",
    "    'max_ctr_complexity': 2, #特征组合的最大特征数量，设置为1取消特征组合，设置为2只做两个特征的组合,默认为4。\n",
    "    'nan_mode': 'Min',\n",
    "    'scale_pos_weight': 74\n",
    "}"
   ]
  },
  {
   "cell_type": "code",
   "execution_count": 82,
   "id": "bbe1cd22-7914-4c43-96af-2452db0a1119",
   "metadata": {
    "tags": []
   },
   "outputs": [
    {
     "name": "stdout",
     "output_type": "stream",
     "text": [
      "==========fold 0==========\n",
      "[LightGBM] [Warning] feature_fraction is set=0.8, colsample_bytree=1.0 will be ignored. Current value: feature_fraction=0.8\n",
      "[LightGBM] [Warning] bagging_fraction is set=0.9, subsample=1.0 will be ignored. Current value: bagging_fraction=0.9\n",
      "[LightGBM] [Warning] bagging_freq is set=4, subsample_freq=0 will be ignored. Current value: bagging_freq=4\n",
      "[2000]\tvalid_0's auc: 0.975511\n",
      "[4000]\tvalid_0's auc: 0.983216\n",
      "[6000]\tvalid_0's auc: 0.985244\n",
      "[8000]\tvalid_0's auc: 0.986032\n",
      "==========fold 1==========\n",
      "[LightGBM] [Warning] feature_fraction is set=0.8, colsample_bytree=1.0 will be ignored. Current value: feature_fraction=0.8\n",
      "[LightGBM] [Warning] bagging_fraction is set=0.9, subsample=1.0 will be ignored. Current value: bagging_fraction=0.9\n",
      "[LightGBM] [Warning] bagging_freq is set=4, subsample_freq=0 will be ignored. Current value: bagging_freq=4\n",
      "[2000]\tvalid_0's auc: 0.973951\n",
      "[4000]\tvalid_0's auc: 0.98194\n",
      "[6000]\tvalid_0's auc: 0.984219\n",
      "[8000]\tvalid_0's auc: 0.984918\n",
      "[10000]\tvalid_0's auc: 0.985216\n",
      "==========fold 2==========\n",
      "[LightGBM] [Warning] feature_fraction is set=0.8, colsample_bytree=1.0 will be ignored. Current value: feature_fraction=0.8\n",
      "[LightGBM] [Warning] bagging_fraction is set=0.9, subsample=1.0 will be ignored. Current value: bagging_fraction=0.9\n",
      "[LightGBM] [Warning] bagging_freq is set=4, subsample_freq=0 will be ignored. Current value: bagging_freq=4\n",
      "[2000]\tvalid_0's auc: 0.97375\n",
      "[4000]\tvalid_0's auc: 0.981755\n",
      "[6000]\tvalid_0's auc: 0.983726\n",
      "[8000]\tvalid_0's auc: 0.984417\n",
      "[10000]\tvalid_0's auc: 0.984797\n",
      "==========fold 3==========\n",
      "[LightGBM] [Warning] feature_fraction is set=0.8, colsample_bytree=1.0 will be ignored. Current value: feature_fraction=0.8\n",
      "[LightGBM] [Warning] bagging_fraction is set=0.9, subsample=1.0 will be ignored. Current value: bagging_fraction=0.9\n",
      "[LightGBM] [Warning] bagging_freq is set=4, subsample_freq=0 will be ignored. Current value: bagging_freq=4\n",
      "[2000]\tvalid_0's auc: 0.975426\n",
      "[4000]\tvalid_0's auc: 0.983018\n",
      "[6000]\tvalid_0's auc: 0.985092\n",
      "[8000]\tvalid_0's auc: 0.985683\n",
      "==========fold 4==========\n",
      "[LightGBM] [Warning] feature_fraction is set=0.8, colsample_bytree=1.0 will be ignored. Current value: feature_fraction=0.8\n",
      "[LightGBM] [Warning] bagging_fraction is set=0.9, subsample=1.0 will be ignored. Current value: bagging_fraction=0.9\n",
      "[LightGBM] [Warning] bagging_freq is set=4, subsample_freq=0 will be ignored. Current value: bagging_freq=4\n",
      "[2000]\tvalid_0's auc: 0.97449\n",
      "[4000]\tvalid_0's auc: 0.982968\n",
      "[6000]\tvalid_0's auc: 0.985231\n",
      "[8000]\tvalid_0's auc: 0.986098\n",
      "[10000]\tvalid_0's auc: 0.986392\n"
     ]
    }
   ],
   "source": [
    "for fold, (train_idx, val_idx) in enumerate(skf.split(x, y)):\n",
    "    print(f'==========fold {fold}==========')\n",
    "    train_x, train_y = x.iloc[train_idx], y.iloc[train_idx]\n",
    "    val_x, val_y = x.iloc[val_idx], y.iloc[val_idx]\n",
    "    \n",
    "    model = lgb.LGBMClassifier(**lgb_params, n_estimators=30000, n_jobs=-1)\n",
    "    model.fit(train_x, train_y, eval_set=(val_x, val_y), eval_metric='auc', verbose=2000, early_stopping_rounds=200)\n",
    "    \n",
    "    oof[val_idx] = model.predict(val_x, num_iteration=model.best_iteration_)\n",
    "    pred_y += model.predict(test_x, num_iteration=model.best_iteration_) / n_fold\n",
    "    feats_weight['importance'] += model.feature_importances_ / n_fold"
   ]
  },
  {
   "cell_type": "code",
   "execution_count": 383,
   "id": "eb868831-c395-4bac-9aba-c35949cff297",
   "metadata": {
    "collapsed": true,
    "jupyter": {
     "outputs_hidden": true
    },
    "tags": []
   },
   "outputs": [
    {
     "name": "stdout",
     "output_type": "stream",
     "text": [
      "==========fold 0==========\n",
      "[0]\tvalidation_0-auc:0.79795\n",
      "[2000]\tvalidation_0-auc:0.98101\n",
      "[4000]\tvalidation_0-auc:0.98525\n",
      "[6000]\tvalidation_0-auc:0.98611\n",
      "[6165]\tvalidation_0-auc:0.98611\n",
      "==========fold 1==========\n",
      "[0]\tvalidation_0-auc:0.79881\n",
      "[2000]\tvalidation_0-auc:0.97951\n",
      "[4000]\tvalidation_0-auc:0.98415\n",
      "[6000]\tvalidation_0-auc:0.98495\n",
      "[6856]\tvalidation_0-auc:0.98499\n",
      "==========fold 2==========\n",
      "[0]\tvalidation_0-auc:0.79730\n",
      "[2000]\tvalidation_0-auc:0.97934\n",
      "[4000]\tvalidation_0-auc:0.98389\n",
      "[6000]\tvalidation_0-auc:0.98463\n",
      "[6670]\tvalidation_0-auc:0.98469\n",
      "==========fold 3==========\n",
      "[0]\tvalidation_0-auc:0.79864\n",
      "[2000]\tvalidation_0-auc:0.98053\n",
      "[4000]\tvalidation_0-auc:0.98492\n",
      "[6000]\tvalidation_0-auc:0.98564\n",
      "[6684]\tvalidation_0-auc:0.98567\n",
      "==========fold 4==========\n",
      "[0]\tvalidation_0-auc:0.80133\n",
      "[2000]\tvalidation_0-auc:0.98057\n",
      "[4000]\tvalidation_0-auc:0.98527\n",
      "[6000]\tvalidation_0-auc:0.98613\n",
      "[6872]\tvalidation_0-auc:0.98619\n"
     ]
    }
   ],
   "source": [
    "# for fold, (train_idx, val_idx) in enumerate(skf.split(x, y)):\n",
    "#     print(f'==========fold {fold}==========')\n",
    "#     train_x, train_y = x.iloc[train_idx], y.iloc[train_idx]\n",
    "#     val_x, val_y = x.iloc[val_idx], y.iloc[val_idx]\n",
    "    \n",
    "#     model = xgb.XGBClassifier(**xgb_params, n_estimators=30000, n_jobs=-1)\n",
    "#     model.fit(train_x, train_y, eval_set=[(val_x, val_y)], eval_metric='auc', verbose=2000, early_stopping_rounds=200)\n",
    "    \n",
    "#     oof[val_idx] = model.predict(val_x, iteration_range=(0, model.best_iteration))\n",
    "#     pred_y += model.predict(test_x, iteration_range=(0, model.best_iteration)) / n_fold\n",
    "#     feats_weight['importance'] += model.feature_importances_ / n_fold"
   ]
  },
  {
   "cell_type": "code",
   "execution_count": 84,
   "id": "f36931a2-5e25-44cb-9741-3b40985b2239",
   "metadata": {},
   "outputs": [
    {
     "data": {
      "text/plain": [
       "0.8928593236691377"
      ]
     },
     "execution_count": 84,
     "metadata": {},
     "output_type": "execute_result"
    }
   ],
   "source": [
    "# score = roc_auc_score(y, oof)\n",
    "score = f1_score(y, oof)\n",
    "score"
   ]
  },
  {
   "cell_type": "code",
   "execution_count": 86,
   "id": "48edfbcc-0c2c-454a-839d-bb8647a52b80",
   "metadata": {},
   "outputs": [
    {
     "name": "stdout",
     "output_type": "stream",
     "text": [
      "                       feat_name  importance\n",
      "45         day_hour_sort_ts_rank     12403.8\n",
      "46      day_hour_x7_sort_ts_rank     12107.8\n",
      "112       day_hour_x_all_ts_skew     11591.0\n",
      "113       day_hour_x_all_ts_kurt     11475.2\n",
      "111        day_hour_x_all_ts_std     11232.8\n",
      "48      day_hour_x5_sort_ts_rank     10358.8\n",
      "107           hour_x_all_ts_kurt     10149.2\n",
      "106           hour_x_all_ts_skew      9578.6\n",
      "41            x_all_sort_ts_rank      9106.8\n",
      "101                x_all_ts_kurt      8972.0\n",
      "25                day_hour_x_all      8813.0\n",
      "100                x_all_ts_skew      8319.8\n",
      "47   day_hour_x7_x5_sort_ts_rank      8198.2\n",
      "137       day_hour_x7_x5_ts_kurt      7935.0\n",
      "142          day_hour_x5_ts_skew      7788.6\n",
      "24                    hour_x_all      7736.8\n",
      "136       day_hour_x7_x5_ts_skew      7721.4\n",
      "23                         x_all      7699.0\n",
      "105            hour_x_all_ts_std      7523.2\n",
      "116      day_hour_x_all_eid_freq      7511.0\n",
      "143          day_hour_x5_ts_kurt      7276.4\n",
      "39          hour_x7_sort_ts_rank      7169.0\n",
      "42       hour_x_all_sort_ts_rank      7162.2\n",
      "43   day_hour_x_all_sort_ts_rank      7038.2\n",
      "99                  x_all_ts_std      6878.2\n",
      "38       hour_x7_x5_sort_ts_rank      6875.2\n",
      "141           day_hour_x5_ts_std      6553.2\n",
      "104               x_all_eid_freq      6507.0\n",
      "135        day_hour_x7_x5_ts_std      6485.0\n",
      "83            hour_x7_x5_ts_kurt      6293.2\n",
      "82            hour_x7_x5_ts_skew      6262.8\n",
      "37             hour_sort_ts_rank      6120.2\n",
      "28                day_hour_x7_x5      6107.8\n",
      "20                          x_cv      6011.6\n",
      "30                   day_hour_x5      5978.4\n",
      "114       day_hour_x_all_ts_freq      5931.0\n",
      "34               x4_sort_ts_rank      5876.8\n",
      "134         day_hour_x7_eid_freq      5742.4\n",
      "110          hour_x_all_eid_freq      5643.4\n",
      "44          hour_x5_sort_ts_rank      5594.2\n",
      "140      day_hour_x7_x5_eid_freq      5582.0\n",
      "27                   day_hour_x7      5468.6\n",
      "130          day_hour_x7_ts_skew      5431.0\n",
      "117               hour_x5_ts_std      5402.8\n",
      "22                    hour_x7_x5      5329.8\n",
      "118              hour_x5_ts_skew      5277.6\n",
      "146         day_hour_x5_eid_freq      5275.0\n",
      "29                       hour_x5      5215.4\n",
      "129           day_hour_x7_ts_std      5180.6\n",
      "119              hour_x5_ts_kurt      5157.0\n"
     ]
    }
   ],
   "source": [
    "print(feats_weight.sort_values(by='importance', ascending=False).iloc[:50])"
   ]
  },
  {
   "cell_type": "code",
   "execution_count": 87,
   "id": "3147e961-530c-4bc3-9896-01fd5a3b079e",
   "metadata": {},
   "outputs": [],
   "source": [
    "submit_df = pd.read_csv('./提交示例.csv')\n",
    "submit_df['target'] = (pred_y > 0.5).astype(int)"
   ]
  },
  {
   "cell_type": "code",
   "execution_count": 88,
   "id": "6c74c290-22df-4b9c-97c0-b0bcd0bd5893",
   "metadata": {},
   "outputs": [
    {
     "data": {
      "text/plain": [
       "0    180912\n",
       "1     25873\n",
       "Name: target, dtype: int64"
      ]
     },
     "execution_count": 88,
     "metadata": {},
     "output_type": "execute_result"
    }
   ],
   "source": [
    "submit_df.target.value_counts()"
   ]
  },
  {
   "cell_type": "code",
   "execution_count": 89,
   "id": "dc317ba2-3bcb-433b-9df9-996bfa5e15cc",
   "metadata": {},
   "outputs": [],
   "source": [
    "submit_df.to_csv('./submit/lgb_{:.6f}.csv'.format(score), index=False)"
   ]
  },
  {
   "cell_type": "code",
   "execution_count": 62,
   "id": "a1405f73-d136-48a9-a8a6-1b42e979aec9",
   "metadata": {
    "tags": []
   },
   "outputs": [
    {
     "data": {
      "text/plain": [
       "327       261\n",
       "861       256\n",
       "606       187\n",
       "2222      182\n",
       "1142      174\n",
       "         ... \n",
       "89505       1\n",
       "89507       1\n",
       "89508       1\n",
       "89514       1\n",
       "143993      1\n",
       "Name: day_hour_x_all, Length: 143994, dtype: int64"
      ]
     },
     "execution_count": 62,
     "metadata": {},
     "output_type": "execute_result"
    }
   ],
   "source": [
    "train_df['day_hour_x_all'].value_counts()"
   ]
  },
  {
   "cell_type": "code",
   "execution_count": 222,
   "id": "9a4a8aac-6a9d-44f4-8d4e-cbac9ece5e21",
   "metadata": {},
   "outputs": [
    {
     "data": {
      "text/plain": [
       "0          1375\n",
       "1          4909\n",
       "2         47266\n",
       "3         15984\n",
       "4          4209\n",
       "          ...  \n",
       "824468      956\n",
       "824469    20555\n",
       "824470    21166\n",
       "824471    24345\n",
       "824472    24345\n",
       "Name: common_ts, Length: 824473, dtype: int64"
      ]
     },
     "execution_count": 222,
     "metadata": {},
     "output_type": "execute_result"
    }
   ],
   "source": [
    "df.groupby(['x5'])['common_ts'].agg('count')\n",
    "df.groupby(['x5'])['common_ts'].transform('nunique')"
   ]
  },
  {
   "cell_type": "code",
   "execution_count": 224,
   "id": "ecdc545b-5190-4413-b959-5c66a823541f",
   "metadata": {},
   "outputs": [
    {
     "data": {
      "text/plain": [
       "0         26\n",
       "1         34\n",
       "2         35\n",
       "3         35\n",
       "4         33\n",
       "          ..\n",
       "824468    31\n",
       "824469    35\n",
       "824470    35\n",
       "824471    35\n",
       "824472    35\n",
       "Name: eid, Length: 824473, dtype: int64"
      ]
     },
     "execution_count": 224,
     "metadata": {},
     "output_type": "execute_result"
    }
   ],
   "source": [
    "df.groupby(['x5'])['eid'].transform('nunique')"
   ]
  },
  {
   "cell_type": "code",
   "execution_count": 97,
   "id": "9233753c-55fe-4faf-b261-e569d5c8fd7e",
   "metadata": {},
   "outputs": [
    {
     "data": {
      "text/plain": [
       "array([ True, False,  True])"
      ]
     },
     "execution_count": 97,
     "metadata": {},
     "output_type": "execute_result"
    }
   ],
   "source": [
    "np.array(['a', 'b', 'c']) == np.array(['a', 'c', 'c'])"
   ]
  },
  {
   "cell_type": "code",
   "execution_count": null,
   "id": "1f0a5c83-fe96-49f7-8b70-54629fa9d48f",
   "metadata": {},
   "outputs": [],
   "source": []
  }
 ],
 "metadata": {
  "kernelspec": {
   "display_name": "competition",
   "language": "python",
   "name": "competition"
  },
  "language_info": {
   "codemirror_mode": {
    "name": "ipython",
    "version": 3
   },
   "file_extension": ".py",
   "mimetype": "text/x-python",
   "name": "python",
   "nbconvert_exporter": "python",
   "pygments_lexer": "ipython3",
   "version": "3.8.13"
  }
 },
 "nbformat": 4,
 "nbformat_minor": 5
}
